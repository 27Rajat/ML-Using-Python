{
  "nbformat": 4,
  "nbformat_minor": 0,
  "metadata": {
    "colab": {
      "name": " test 5.ipynb",
      "provenance": [],
      "collapsed_sections": []
    },
    "kernelspec": {
      "name": "python3",
      "display_name": "Python 3"
    },
    "language_info": {
      "name": "python"
    }
  },
  "cells": [
    {
      "cell_type": "code",
      "execution_count": 1,
      "metadata": {
        "id": "CDUoEw_p7UCA"
      },
      "outputs": [],
      "source": [
        "import sklearn\n",
        "from sklearn.datasets import load_iris"
      ]
    },
    {
      "cell_type": "code",
      "source": [
        "data = load_iris()"
      ],
      "metadata": {
        "id": "ZRx6YUzKakcf"
      },
      "execution_count": 2,
      "outputs": []
    },
    {
      "cell_type": "code",
      "source": [
        "x = data.data\n",
        "y = data.target"
      ],
      "metadata": {
        "id": "yBLjSQAKapza"
      },
      "execution_count": 3,
      "outputs": []
    },
    {
      "cell_type": "code",
      "source": [
        "from sklearn.model_selection import train_test_split\n",
        "x_train,x_test,y_train,y_test = train_test_split(x,y,test_size=0.2,random_state=1)"
      ],
      "metadata": {
        "id": "dJfu68SrawYY"
      },
      "execution_count": 4,
      "outputs": []
    },
    {
      "cell_type": "code",
      "source": [
        "print(x_train.shape)"
      ],
      "metadata": {
        "colab": {
          "base_uri": "https://localhost:8080/"
        },
        "id": "h0mNT24EbT4p",
        "outputId": "7dabc25c-9d72-4afa-ca98-052140e085b1"
      },
      "execution_count": 5,
      "outputs": [
        {
          "output_type": "stream",
          "name": "stdout",
          "text": [
            "(120, 4)\n"
          ]
        }
      ]
    },
    {
      "cell_type": "code",
      "source": [
        "from sklearn.linear_model import LogisticRegression"
      ],
      "metadata": {
        "id": "j-0WcVh9bZR0"
      },
      "execution_count": 6,
      "outputs": []
    },
    {
      "cell_type": "code",
      "source": [
        "lr = LogisticRegression()"
      ],
      "metadata": {
        "id": "5Zrq4RcRblA-"
      },
      "execution_count": 7,
      "outputs": []
    },
    {
      "cell_type": "code",
      "source": [
        "lr.fit(x_train,y_train)"
      ],
      "metadata": {
        "colab": {
          "base_uri": "https://localhost:8080/"
        },
        "id": "gJ2OEF-bb4Lh",
        "outputId": "c96b5b0c-90f3-4b98-cee9-80f02da8968e"
      },
      "execution_count": 8,
      "outputs": [
        {
          "output_type": "stream",
          "name": "stderr",
          "text": [
            "/usr/local/lib/python3.7/dist-packages/sklearn/linear_model/_logistic.py:818: ConvergenceWarning: lbfgs failed to converge (status=1):\n",
            "STOP: TOTAL NO. of ITERATIONS REACHED LIMIT.\n",
            "\n",
            "Increase the number of iterations (max_iter) or scale the data as shown in:\n",
            "    https://scikit-learn.org/stable/modules/preprocessing.html\n",
            "Please also refer to the documentation for alternative solver options:\n",
            "    https://scikit-learn.org/stable/modules/linear_model.html#logistic-regression\n",
            "  extra_warning_msg=_LOGISTIC_SOLVER_CONVERGENCE_MSG,\n"
          ]
        },
        {
          "output_type": "execute_result",
          "data": {
            "text/plain": [
              "LogisticRegression()"
            ]
          },
          "metadata": {},
          "execution_count": 8
        }
      ]
    },
    {
      "cell_type": "code",
      "source": [
        "y_predict = lr.predict(x_test)"
      ],
      "metadata": {
        "id": "tLoMiTYdcEvk"
      },
      "execution_count": 10,
      "outputs": []
    },
    {
      "cell_type": "code",
      "source": [
        "from sklearn.metrics import accuracy_score\n",
        "accuracy = accuracy_score(y_predict,y_test)"
      ],
      "metadata": {
        "id": "DBxNjjmtcR0g"
      },
      "execution_count": 15,
      "outputs": []
    },
    {
      "cell_type": "code",
      "source": [
        "print(accuracy)"
      ],
      "metadata": {
        "colab": {
          "base_uri": "https://localhost:8080/"
        },
        "id": "ZaNaN5QTcSCx",
        "outputId": "76d6e1d5-e806-42a5-e729-b01ddb83cf77"
      },
      "execution_count": 16,
      "outputs": [
        {
          "output_type": "stream",
          "name": "stdout",
          "text": [
            "0.9666666666666667\n"
          ]
        }
      ]
    },
    {
      "cell_type": "code",
      "source": [
        "from sklearn.decomposition import PCA"
      ],
      "metadata": {
        "id": "5u2p7nuydv3K"
      },
      "execution_count": 17,
      "outputs": []
    },
    {
      "cell_type": "code",
      "source": [
        "sklearn_pca = PCA(n_components=0.95)"
      ],
      "metadata": {
        "id": "rs7FETV8d4v0"
      },
      "execution_count": 18,
      "outputs": []
    },
    {
      "cell_type": "code",
      "source": [
        "sklearn_pca.fit(x_train)"
      ],
      "metadata": {
        "colab": {
          "base_uri": "https://localhost:8080/"
        },
        "id": "WFiErb8beQaF",
        "outputId": "99fbd2d4-0f34-4807-f7cd-d1b61036e893"
      },
      "execution_count": 19,
      "outputs": [
        {
          "output_type": "execute_result",
          "data": {
            "text/plain": [
              "PCA(n_components=0.95)"
            ]
          },
          "metadata": {},
          "execution_count": 19
        }
      ]
    },
    {
      "cell_type": "code",
      "source": [
        "x_train_transformed = sklearn_pca.transform(x_train)"
      ],
      "metadata": {
        "id": "E4F_aAo4eXWS"
      },
      "execution_count": 22,
      "outputs": []
    },
    {
      "cell_type": "code",
      "source": [
        "print(x_train_transformed.shape)"
      ],
      "metadata": {
        "colab": {
          "base_uri": "https://localhost:8080/"
        },
        "id": "ryATW6-uet4k",
        "outputId": "087ab907-1f7b-4a67-ebc2-d96b3d3c73d4"
      },
      "execution_count": 23,
      "outputs": [
        {
          "output_type": "stream",
          "name": "stdout",
          "text": [
            "(120, 2)\n"
          ]
        }
      ]
    },
    {
      "cell_type": "code",
      "source": [
        "print(x_test.shape)"
      ],
      "metadata": {
        "colab": {
          "base_uri": "https://localhost:8080/"
        },
        "id": "_sZi51blfxqt",
        "outputId": "7cc00dc7-e023-4aac-dfee-97242a8c9288"
      },
      "execution_count": 24,
      "outputs": [
        {
          "output_type": "stream",
          "name": "stdout",
          "text": [
            "(30, 4)\n"
          ]
        }
      ]
    },
    {
      "cell_type": "code",
      "source": [
        "x_test_transformed = sklearn_pca.transform(x_test)\n",
        "print(x_test_transformed)"
      ],
      "metadata": {
        "colab": {
          "base_uri": "https://localhost:8080/"
        },
        "id": "0K3XMgcsf3bb",
        "outputId": "5d542d3d-e623-4fc4-8416-c8a3cba50ef3"
      },
      "execution_count": 25,
      "outputs": [
        {
          "output_type": "stream",
          "name": "stdout",
          "text": [
            "[[-2.68738967  1.24153895]\n",
            " [-0.96538559 -0.70916231]\n",
            " [ 0.84875981  0.36063236]\n",
            " [-2.667761    0.87375109]\n",
            " [ 3.18881499  1.39096721]\n",
            " [ 1.04563026  0.31741614]\n",
            " [ 1.87475727  0.42737639]\n",
            " [-2.25684139  0.50141011]\n",
            " [-2.68626909 -0.12972275]\n",
            " [ 2.37996557  0.39664779]\n",
            " [ 0.29972026 -0.46441361]\n",
            " [-2.32593534  0.80416676]\n",
            " [ 2.56639731  0.3617593 ]\n",
            " [ 0.88247689  0.35216014]\n",
            " [ 0.7592687  -0.12787235]\n",
            " [-3.05198739 -0.2718511 ]\n",
            " [ 0.17301658 -0.3648974 ]\n",
            " [ 0.60593977 -0.31331324]\n",
            " [-2.45919725  0.47071942]\n",
            " [-2.91874569  0.13417817]\n",
            " [ 0.40549318 -0.62879833]\n",
            " [ 0.5330404  -0.44285763]\n",
            " [ 1.50660921  0.29454543]\n",
            " [-2.81965942  0.32889825]\n",
            " [ 2.56458182  0.58291385]\n",
            " [ 0.24318335 -0.30859743]\n",
            " [-2.64088627  1.159726  ]\n",
            " [-2.63488745  0.57982198]\n",
            " [ 0.86550017 -0.14505759]\n",
            " [ 1.4709022  -0.35043795]]\n"
          ]
        }
      ]
    },
    {
      "cell_type": "code",
      "source": [
        "print(x_test_transformed.shape)"
      ],
      "metadata": {
        "colab": {
          "base_uri": "https://localhost:8080/"
        },
        "id": "0SbGwclShOgT",
        "outputId": "0f97120e-4e0f-4464-fb1c-a80778af463d"
      },
      "execution_count": 26,
      "outputs": [
        {
          "output_type": "stream",
          "name": "stdout",
          "text": [
            "(30, 2)\n"
          ]
        }
      ]
    }
  ]
}