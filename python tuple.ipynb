{
 "cells": [
  {
   "cell_type": "markdown",
   "id": "0afc1412",
   "metadata": {},
   "source": [
    "# tuple\n"
   ]
  },
  {
   "cell_type": "code",
   "execution_count": 1,
   "id": "62030697",
   "metadata": {},
   "outputs": [
    {
     "data": {
      "text/plain": [
       "(1, 2, 3, 4)"
      ]
     },
     "execution_count": 1,
     "metadata": {},
     "output_type": "execute_result"
    }
   ],
   "source": [
    "tup = (1,2,3,4)\n",
    "tup"
   ]
  },
  {
   "cell_type": "code",
   "execution_count": 8,
   "id": "573cd37a",
   "metadata": {},
   "outputs": [
    {
     "name": "stdout",
     "output_type": "stream",
     "text": [
      "(88, 'Rajat', 19)\n",
      "(1, 2, 3, 4, 5)\n"
     ]
    }
   ],
   "source": [
    "R = (88,'Rajat',19)\n",
    "S = 1,2,3,4,5\n",
    "print(R)\n",
    "print(S)"
   ]
  },
  {
   "cell_type": "code",
   "execution_count": 9,
   "id": "1caa93b1",
   "metadata": {},
   "outputs": [
    {
     "name": "stdout",
     "output_type": "stream",
     "text": [
      "<class 'tuple'>\n",
      "<class 'tuple'>\n"
     ]
    }
   ],
   "source": [
    "print(type(R))\n",
    "print(type(S))"
   ]
  },
  {
   "cell_type": "code",
   "execution_count": 4,
   "id": "306b7098",
   "metadata": {},
   "outputs": [
    {
     "name": "stdout",
     "output_type": "stream",
     "text": [
      "(10, 20, 30, 40, 50, 60)\n",
      " tup[0] - 10\n",
      " tup[1] - 20\n",
      " tup[2] - 30\n",
      " tup[3] - 40\n",
      " tup[4] - 50\n",
      " tup[5] - 60\n"
     ]
    }
   ],
   "source": [
    "tup = (10,20,30,40,50,60)\n",
    "print(tup)\n",
    "count = 0\n",
    "for i in tup:\n",
    "    print(\" tup[%d] - %d\"%(count, i))\n",
    "    count = count + 1"
   ]
  },
  {
   "cell_type": "code",
   "execution_count": 12,
   "id": "4fcd0df2",
   "metadata": {},
   "outputs": [
    {
     "name": "stdout",
     "output_type": "stream",
     "text": [
      "enter the tuple elements...12345\n",
      "('1', '2', '3', '4', '5')\n",
      " tup[0] - 1\n",
      " tup[1] - 2\n",
      " tup[2] - 3\n",
      " tup[3] - 4\n",
      " tup[4] - 5\n"
     ]
    }
   ],
   "source": [
    "tup = tuple(input('enter the tuple elements...'))\n",
    "print(tup)\n",
    "count = 0\n",
    "for i in tup:\n",
    "    print(\" tup[%d] - %s\"%(count, i))\n",
    "    count = count + 1"
   ]
  },
  {
   "cell_type": "code",
   "execution_count": 15,
   "id": "1b671c5f",
   "metadata": {},
   "outputs": [
    {
     "name": "stdout",
     "output_type": "stream",
     "text": [
      "(20, 30, 40, 50, 60)\n",
      "(20, 30)\n",
      "(10, 20, 30, 40, 50)\n",
      "(10, 30, 50)\n"
     ]
    }
   ],
   "source": [
    "tup = (10,20,30,40,50,60)\n",
    "print(tup[1:])\n",
    "print(tup[1:3])\n",
    "print(tup[:5])\n",
    "print(tup[0:5:2])"
   ]
  },
  {
   "cell_type": "code",
   "execution_count": 16,
   "id": "f5214195",
   "metadata": {},
   "outputs": [
    {
     "name": "stdout",
     "output_type": "stream",
     "text": [
      "(60,)\n",
      "()\n",
      "(10,)\n",
      "(10,)\n"
     ]
    }
   ],
   "source": [
    "tup = (10,20,30,40,50,60)\n",
    "print(tup[-1:])\n",
    "print(tup[-1:-3])\n",
    "print(tup[:-5])\n",
    "print(tup[0:-5:2])"
   ]
  },
  {
   "cell_type": "code",
   "execution_count": 18,
   "id": "4f26e5cc",
   "metadata": {},
   "outputs": [
    {
     "ename": "NameError",
     "evalue": "name 'tup' is not defined",
     "output_type": "error",
     "traceback": [
      "\u001b[0;31m---------------------------------------------------------------------------\u001b[0m",
      "\u001b[0;31mNameError\u001b[0m                                 Traceback (most recent call last)",
      "\u001b[0;32m<ipython-input-18-c2f1b3814a74>\u001b[0m in \u001b[0;36m<module>\u001b[0;34m\u001b[0m\n\u001b[1;32m      1\u001b[0m \u001b[0mtup\u001b[0m \u001b[0;34m=\u001b[0m \u001b[0;34m(\u001b[0m\u001b[0;36m10\u001b[0m\u001b[0;34m,\u001b[0m\u001b[0;36m20\u001b[0m\u001b[0;34m,\u001b[0m\u001b[0;36m30\u001b[0m\u001b[0;34m,\u001b[0m\u001b[0;36m40\u001b[0m\u001b[0;34m,\u001b[0m\u001b[0;36m50\u001b[0m\u001b[0;34m,\u001b[0m\u001b[0;36m60\u001b[0m\u001b[0;34m)\u001b[0m\u001b[0;34m\u001b[0m\u001b[0;34m\u001b[0m\u001b[0m\n\u001b[1;32m      2\u001b[0m \u001b[0;32mdel\u001b[0m \u001b[0mtup\u001b[0m\u001b[0;34m\u001b[0m\u001b[0;34m\u001b[0m\u001b[0m\n\u001b[0;32m----> 3\u001b[0;31m \u001b[0mprint\u001b[0m\u001b[0;34m(\u001b[0m\u001b[0mtup\u001b[0m\u001b[0;34m)\u001b[0m\u001b[0;34m\u001b[0m\u001b[0;34m\u001b[0m\u001b[0m\n\u001b[0m",
      "\u001b[0;31mNameError\u001b[0m: name 'tup' is not defined"
     ]
    }
   ],
   "source": [
    "tup = (10,20,30,40,50,60)\n",
    "del tup\n",
    "print(tup)"
   ]
  },
  {
   "cell_type": "code",
   "execution_count": 19,
   "id": "32828adc",
   "metadata": {},
   "outputs": [
    {
     "data": {
      "text/plain": [
       "(1, 2, 3, 4, 1, 2, 3, 4)"
      ]
     },
     "execution_count": 19,
     "metadata": {},
     "output_type": "execute_result"
    }
   ],
   "source": [
    "t = (1,2,3,4)\n",
    "t*2"
   ]
  },
  {
   "cell_type": "code",
   "execution_count": null,
   "id": "dffc342c",
   "metadata": {},
   "outputs": [],
   "source": []
  }
 ],
 "metadata": {
  "kernelspec": {
   "display_name": "Python 3",
   "language": "python",
   "name": "python3"
  },
  "language_info": {
   "codemirror_mode": {
    "name": "ipython",
    "version": 3
   },
   "file_extension": ".py",
   "mimetype": "text/x-python",
   "name": "python",
   "nbconvert_exporter": "python",
   "pygments_lexer": "ipython3",
   "version": "3.8.8"
  }
 },
 "nbformat": 4,
 "nbformat_minor": 5
}
