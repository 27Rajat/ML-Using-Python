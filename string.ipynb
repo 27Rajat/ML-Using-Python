{
 "cells": [
  {
   "cell_type": "markdown",
   "id": "f19db50e",
   "metadata": {},
   "source": [
    "# string functions\n"
   ]
  },
  {
   "cell_type": "code",
   "execution_count": 7,
   "id": "e7ba0066",
   "metadata": {},
   "outputs": [
    {
     "name": "stdout",
     "output_type": "stream",
     "text": [
      "rajat gupta CR of swc A\n"
     ]
    }
   ],
   "source": [
    "str = 'rajat gupta CR of swc A';\n",
    "print (str)\n"
   ]
  },
  {
   "cell_type": "code",
   "execution_count": 8,
   "id": "d7a68a7a",
   "metadata": {},
   "outputs": [
    {
     "name": "stdout",
     "output_type": "stream",
     "text": [
      "r\n"
     ]
    }
   ],
   "source": [
    "print (str[0])"
   ]
  },
  {
   "cell_type": "code",
   "execution_count": 9,
   "id": "300c9f43",
   "metadata": {},
   "outputs": [
    {
     "name": "stdout",
     "output_type": "stream",
     "text": [
      "jat gupta CR of swc A\n"
     ]
    }
   ],
   "source": [
    "print (str[2:])"
   ]
  },
  {
   "cell_type": "code",
   "execution_count": 10,
   "id": "88929c21",
   "metadata": {},
   "outputs": [
    {
     "name": "stdout",
     "output_type": "stream",
     "text": [
      "rajat gupta CR of swc \n"
     ]
    }
   ],
   "source": [
    "print (str[:-1])"
   ]
  },
  {
   "cell_type": "code",
   "execution_count": 11,
   "id": "5eb6e1d2",
   "metadata": {},
   "outputs": [
    {
     "name": "stdout",
     "output_type": "stream",
     "text": [
      "rajat gupta CR of swc Aamity university\n"
     ]
    }
   ],
   "source": [
    "print (str + \"amity university\")"
   ]
  },
  {
   "cell_type": "code",
   "execution_count": 12,
   "id": "b554609a",
   "metadata": {},
   "outputs": [
    {
     "name": "stdout",
     "output_type": "stream",
     "text": [
      "ra\n"
     ]
    }
   ],
   "source": [
    "print (str[:2])"
   ]
  },
  {
   "cell_type": "code",
   "execution_count": 13,
   "id": "80119c56",
   "metadata": {},
   "outputs": [
    {
     "name": "stdout",
     "output_type": "stream",
     "text": [
      "jat\n"
     ]
    }
   ],
   "source": [
    "print (str[2:5])"
   ]
  },
  {
   "cell_type": "code",
   "execution_count": null,
   "id": "e8e5c63c",
   "metadata": {},
   "outputs": [],
   "source": []
  },
  {
   "cell_type": "code",
   "execution_count": null,
   "id": "fc7a55a9",
   "metadata": {},
   "outputs": [],
   "source": []
  }
 ],
 "metadata": {
  "kernelspec": {
   "display_name": "Python 3",
   "language": "python",
   "name": "python3"
  },
  "language_info": {
   "codemirror_mode": {
    "name": "ipython",
    "version": 3
   },
   "file_extension": ".py",
   "mimetype": "text/x-python",
   "name": "python",
   "nbconvert_exporter": "python",
   "pygments_lexer": "ipython3",
   "version": "3.8.8"
  }
 },
 "nbformat": 4,
 "nbformat_minor": 5
}
