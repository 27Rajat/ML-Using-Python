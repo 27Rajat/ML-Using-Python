{
 "cells": [
  {
   "cell_type": "markdown",
   "id": "d12c7487",
   "metadata": {},
   "source": [
    "# python dictionary\n"
   ]
  },
  {
   "cell_type": "code",
   "execution_count": null,
   "id": "a4a7ad1a",
   "metadata": {},
   "outputs": [],
   "source": [
    "dict = {'name' : 'rajat' , 'surname' : 'Gupta'}\n",
    "dict"
   ]
  },
  {
   "cell_type": "code",
   "execution_count": null,
   "id": "d442794d",
   "metadata": {},
   "outputs": [],
   "source": [
    "dict['name']"
   ]
  },
  {
   "cell_type": "code",
   "execution_count": null,
   "id": "f6fa77c9",
   "metadata": {},
   "outputs": [],
   "source": []
  },
  {
   "cell_type": "code",
   "execution_count": null,
   "id": "a69e56f4",
   "metadata": {},
   "outputs": [],
   "source": [
    "dict['surname']"
   ]
  },
  {
   "cell_type": "code",
   "execution_count": null,
   "id": "18c80fb9",
   "metadata": {},
   "outputs": [],
   "source": [
    "dict.keys()"
   ]
  },
  {
   "cell_type": "code",
   "execution_count": null,
   "id": "4dc5d917",
   "metadata": {},
   "outputs": [],
   "source": [
    "dict.items()"
   ]
  },
  {
   "cell_type": "code",
   "execution_count": null,
   "id": "f682a0cf",
   "metadata": {},
   "outputs": [],
   "source": [
    "dict.values()"
   ]
  },
  {
   "cell_type": "code",
   "execution_count": 1,
   "id": "1d93e2f7",
   "metadata": {},
   "outputs": [
    {
     "name": "stdout",
     "output_type": "stream",
     "text": [
      "{1: 'Rajat', 2: 'Gupta'}\n"
     ]
    }
   ],
   "source": [
    "Dict = dict({1: 'Rajat' , 2: 'Gupta'})\n",
    "print(Dict)\n"
   ]
  },
  {
   "cell_type": "code",
   "execution_count": 4,
   "id": "7e087415",
   "metadata": {},
   "outputs": [
    {
     "name": "stdout",
     "output_type": "stream",
     "text": [
      "{1: 'Rajat', 2: 'Gupta'}\n"
     ]
    }
   ],
   "source": [
    "Dict = dict([{1,'Rajat'} ,{ 2, 'Gupta'}])\n",
    "print(Dict)\n"
   ]
  },
  {
   "cell_type": "code",
   "execution_count": 9,
   "id": "9decf867",
   "metadata": {},
   "outputs": [
    {
     "name": "stdout",
     "output_type": "stream",
     "text": [
      "{'surname': 'Gupta'}\n",
      "<class 'dict'>\n"
     ]
    }
   ],
   "source": [
    "dict = {'name' : 'rajat' , 'surname' : 'Gupta'}\n",
    "del dict['name']\n",
    "print(dict)\n",
    "del dict\n",
    "print(dict)"
   ]
  },
  {
   "cell_type": "code",
   "execution_count": 10,
   "id": "2b358d1e",
   "metadata": {},
   "outputs": [
    {
     "name": "stdout",
     "output_type": "stream",
     "text": [
      "{'name': 'rajat'}\n"
     ]
    }
   ],
   "source": [
    "dict = {'name' : 'rajat' , 'surname' : 'Gupta'}\n",
    "dict.pop('surname')\n",
    "print(dict)"
   ]
  },
  {
   "cell_type": "code",
   "execution_count": 12,
   "id": "be604fcd",
   "metadata": {},
   "outputs": [
    {
     "name": "stdout",
     "output_type": "stream",
     "text": [
      "name\n",
      "surname\n",
      "college\n"
     ]
    }
   ],
   "source": [
    "dict = {'name' : 'rajat' , 'surname' : 'Gupta' , 'college' : 'amity university'}\n",
    "for i in dict:\n",
    "    print(i)\n",
    "    \n",
    "\n",
    "\n"
   ]
  },
  {
   "cell_type": "code",
   "execution_count": 13,
   "id": "8837ef64",
   "metadata": {},
   "outputs": [
    {
     "name": "stdout",
     "output_type": "stream",
     "text": [
      "rajat\n",
      "Gupta\n",
      "amity university\n"
     ]
    }
   ],
   "source": [
    "dict = {'name' : 'rajat' , 'surname' : 'Gupta' , 'college' : 'amity university'}\n",
    "for i in dict:\n",
    "    print(dict[i])\n",
    "    "
   ]
  },
  {
   "cell_type": "code",
   "execution_count": 15,
   "id": "78e254bc",
   "metadata": {},
   "outputs": [
    {
     "name": "stdout",
     "output_type": "stream",
     "text": [
      "('name', 'rajat')\n",
      "('surname', 'Gupta')\n",
      "('college', 'amity university')\n"
     ]
    }
   ],
   "source": [
    "dict = {'name' : 'rajat' , 'surname' : 'Gupta' , 'college' : 'amity university'}\n",
    "for i in dict.items():\n",
    "    print(i)"
   ]
  }
 ],
 "metadata": {
  "kernelspec": {
   "display_name": "Python 3",
   "language": "python",
   "name": "python3"
  },
  "language_info": {
   "codemirror_mode": {
    "name": "ipython",
    "version": 3
   },
   "file_extension": ".py",
   "mimetype": "text/x-python",
   "name": "python",
   "nbconvert_exporter": "python",
   "pygments_lexer": "ipython3",
   "version": "3.8.8"
  }
 },
 "nbformat": 4,
 "nbformat_minor": 5
}
