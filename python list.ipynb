{
 "cells": [
  {
   "cell_type": "markdown",
   "id": "2182893d",
   "metadata": {},
   "source": [
    "# python list\n"
   ]
  },
  {
   "cell_type": "code",
   "execution_count": 1,
   "id": "7d04a230",
   "metadata": {},
   "outputs": [
    {
     "data": {
      "text/plain": [
       "[20, 30, 40, 50, 60]"
      ]
     },
     "execution_count": 1,
     "metadata": {},
     "output_type": "execute_result"
    }
   ],
   "source": [
    "mylist = [20,30,40,50,60]\n",
    "mylist"
   ]
  },
  {
   "cell_type": "code",
   "execution_count": 2,
   "id": "a4424c24",
   "metadata": {},
   "outputs": [
    {
     "data": {
      "text/plain": [
       "20"
      ]
     },
     "execution_count": 2,
     "metadata": {},
     "output_type": "execute_result"
    }
   ],
   "source": [
    "mylist[0]"
   ]
  },
  {
   "cell_type": "code",
   "execution_count": 3,
   "id": "4eb355dc",
   "metadata": {},
   "outputs": [
    {
     "data": {
      "text/plain": [
       "[20, 30, 40, 50, 60]"
      ]
     },
     "execution_count": 3,
     "metadata": {},
     "output_type": "execute_result"
    }
   ],
   "source": [
    "mylist[0:]"
   ]
  },
  {
   "cell_type": "code",
   "execution_count": 4,
   "id": "75e070d8",
   "metadata": {},
   "outputs": [
    {
     "data": {
      "text/plain": [
       "[20, 30]"
      ]
     },
     "execution_count": 4,
     "metadata": {},
     "output_type": "execute_result"
    }
   ],
   "source": [
    "mylist[0:2]"
   ]
  },
  {
   "cell_type": "code",
   "execution_count": 5,
   "id": "5de8f422",
   "metadata": {},
   "outputs": [
    {
     "data": {
      "text/plain": [
       "[20, 30]"
      ]
     },
     "execution_count": 5,
     "metadata": {},
     "output_type": "execute_result"
    }
   ],
   "source": [
    "mylist[:2]"
   ]
  },
  {
   "cell_type": "code",
   "execution_count": 6,
   "id": "2e57210a",
   "metadata": {},
   "outputs": [
    {
     "data": {
      "text/plain": [
       "[20, 30, 40, 50, 60]"
      ]
     },
     "execution_count": 6,
     "metadata": {},
     "output_type": "execute_result"
    }
   ],
   "source": [
    "mylist[:]"
   ]
  },
  {
   "cell_type": "code",
   "execution_count": 7,
   "id": "8616c742",
   "metadata": {},
   "outputs": [
    {
     "name": "stdout",
     "output_type": "stream",
     "text": [
      "60\n",
      "[40, 50, 60]\n",
      "[20, 30, 40, 50]\n",
      "[40, 50]\n"
     ]
    }
   ],
   "source": [
    "print(mylist[-1])\n",
    "print(mylist[-3 :])\n",
    "print(mylist[: -1])\n",
    "print(mylist[-3 : -1])"
   ]
  },
  {
   "cell_type": "code",
   "execution_count": 8,
   "id": "2ddb0719",
   "metadata": {},
   "outputs": [
    {
     "data": {
      "text/plain": [
       "['rajat', 'gupta', 19]"
      ]
     },
     "execution_count": 8,
     "metadata": {},
     "output_type": "execute_result"
    }
   ],
   "source": [
    "mylist = [\"rajat\" , \"gupta\" ,19]\n",
    "mylist"
   ]
  },
  {
   "cell_type": "code",
   "execution_count": 11,
   "id": "4016b776",
   "metadata": {},
   "outputs": [
    {
     "name": "stdout",
     "output_type": "stream",
     "text": [
      "<class 'list'>\n"
     ]
    }
   ],
   "source": [
    "print(type(mylist))"
   ]
  },
  {
   "cell_type": "code",
   "execution_count": 12,
   "id": "0769f68a",
   "metadata": {},
   "outputs": [],
   "source": [
    "yourlist = [\"rajat\" , \"gupta\" ,19]"
   ]
  },
  {
   "cell_type": "code",
   "execution_count": 15,
   "id": "dc4c0db8",
   "metadata": {},
   "outputs": [
    {
     "data": {
      "text/plain": [
       "True"
      ]
     },
     "execution_count": 15,
     "metadata": {},
     "output_type": "execute_result"
    }
   ],
   "source": [
    "mylist == yourlist"
   ]
  },
  {
   "cell_type": "code",
   "execution_count": 18,
   "id": "d015bb48",
   "metadata": {},
   "outputs": [
    {
     "data": {
      "text/plain": [
       "['harshit', 'gupta', 19]"
      ]
     },
     "execution_count": 18,
     "metadata": {},
     "output_type": "execute_result"
    }
   ],
   "source": [
    "yourlist [0] = \"harshit\"\n",
    "yourlist "
   ]
  },
  {
   "cell_type": "code",
   "execution_count": 17,
   "id": "5b47b37f",
   "metadata": {},
   "outputs": [
    {
     "name": "stdout",
     "output_type": "stream",
     "text": [
      "printing employee data....\n",
      "Name : Rajat, ID : 102< country : india \n",
      "printing departments......\n",
      "Department 1:\n",
      "Name: cs, ID: 11\n",
      "Department 2:\n",
      "Name: iT, ID: 11\n",
      "HDD Details....\n",
      "CS. HOD Name: MR HOD_CS, Id: 10\n",
      "IT HOD0 Name: MR HOD_IT, Id: 10\n",
      "<class 'list'> <class 'list'> <class 'list'> <class 'list'> <class 'list'>\n"
     ]
    }
   ],
   "source": [
    "emp = [\"Rajat\" , 102, \"india\"]\n",
    "dep1 = [\"cs\",10]\n",
    "dep2 = [\"iT\", 11]\n",
    "HOD_CS = [10,\"MR HOD_CS\"]\n",
    "HOD_IT = [10,\"MR HOD_IT\"]\n",
    "\n",
    "print(\"printing employee data....\")\n",
    "print(\"Name : %s, ID : %d< country : %s \"%(emp[0],emp[1],emp[2]))\n",
    "print(\"printing departments......\")\n",
    "print(\"Department 1:\\nName: %s, ID: %d\\nDepartment 2:\\nName: %s, ID: %s\"%(dep1[0], dep2[1], dep2[0], dep2[1]))\n",
    "\n",
    "print(\"HDD Details....\")\n",
    "\n",
    "print(\"CS. HOD Name: %s, Id: %d\"%(HOD_CS [1], HOD_CS[0]))\n",
    "\n",
    "print(\"IT HOD0 Name: %s, Id: %d\"%(HOD_IT[1], HOD_IT[0]))\n",
    "\n",
    "print(type(emp), type (dep1), type (dep2), type (HOD_CS), type (HOD_IT))\n"
   ]
  },
  {
   "cell_type": "code",
   "execution_count": 19,
   "id": "49e42e38",
   "metadata": {},
   "outputs": [
    {
     "data": {
      "text/plain": [
       "[1, 2, 3, 4, 5, 6, 1, 2, 3, 4, 5, 6]"
      ]
     },
     "execution_count": 19,
     "metadata": {},
     "output_type": "execute_result"
    }
   ],
   "source": [
    "a = [1,2,3,4,5,6]\n",
    "a*2"
   ]
  },
  {
   "cell_type": "code",
   "execution_count": 20,
   "id": "fb6c89fc",
   "metadata": {},
   "outputs": [
    {
     "data": {
      "text/plain": [
       "[1, 2, 3, 4, 5, 6, 7, 8, 9]"
      ]
     },
     "execution_count": 20,
     "metadata": {},
     "output_type": "execute_result"
    }
   ],
   "source": [
    "b = [7,8,9]\n",
    "a+b"
   ]
  },
  {
   "cell_type": "code",
   "execution_count": 21,
   "id": "3d659861",
   "metadata": {},
   "outputs": [
    {
     "name": "stdout",
     "output_type": "stream",
     "text": [
      "True\n"
     ]
    }
   ],
   "source": [
    "print(2 in a)"
   ]
  },
  {
   "cell_type": "code",
   "execution_count": 24,
   "id": "d9f8c1a9",
   "metadata": {},
   "outputs": [
    {
     "name": "stdout",
     "output_type": "stream",
     "text": [
      "1\n",
      "2\n",
      "3\n",
      "4\n",
      "5\n",
      "6\n"
     ]
    }
   ],
   "source": [
    "for i in a:\n",
    "    print(i)"
   ]
  },
  {
   "cell_type": "code",
   "execution_count": 27,
   "id": "99892585",
   "metadata": {},
   "outputs": [
    {
     "name": "stdout",
     "output_type": "stream",
     "text": [
      "[1, 2, 3, 5, 8]\n"
     ]
    }
   ],
   "source": [
    "a = [1,8,2,5,3]\n",
    "a.sort()\n",
    "print(a)"
   ]
  },
  {
   "cell_type": "code",
   "execution_count": 30,
   "id": "d2da5134",
   "metadata": {},
   "outputs": [
    {
     "name": "stdout",
     "output_type": "stream",
     "text": [
      "[2, 3, 4, 5, 6]\n"
     ]
    }
   ],
   "source": [
    "a = [1,2,3,4,5,6]\n",
    "a.remove(1)\n",
    "print(a)\n"
   ]
  },
  {
   "cell_type": "code",
   "execution_count": 31,
   "id": "3189ea9c",
   "metadata": {},
   "outputs": [
    {
     "name": "stdout",
     "output_type": "stream",
     "text": [
      "6\n"
     ]
    }
   ],
   "source": [
    "print(max(a))"
   ]
  },
  {
   "cell_type": "code",
   "execution_count": 32,
   "id": "a9d72786",
   "metadata": {},
   "outputs": [
    {
     "name": "stdout",
     "output_type": "stream",
     "text": [
      "2\n"
     ]
    }
   ],
   "source": [
    "print(min(a))"
   ]
  },
  {
   "cell_type": "code",
   "execution_count": 33,
   "id": "e765c710",
   "metadata": {},
   "outputs": [
    {
     "name": "stdout",
     "output_type": "stream",
     "text": [
      "[1, 2, 3, 4, 5, 6, 7, 8]\n"
     ]
    }
   ],
   "source": [
    "a = [1,2,2,3,4,4,4,5,6,7,8,8,8]\n",
    "b = []\n",
    "for i in a:\n",
    "    if i not in b:\n",
    "        b.append(i)\n",
    "print(b)\n"
   ]
  },
  {
   "cell_type": "code",
   "execution_count": 34,
   "id": "a10ad7c5",
   "metadata": {},
   "outputs": [
    {
     "name": "stdout",
     "output_type": "stream",
     "text": [
      "the sum is :  21\n"
     ]
    }
   ],
   "source": [
    "a = [1,2,3,4,5,6]\n",
    "sum = 0\n",
    "for i in a:\n",
    "    sum = sum + i\n",
    "print(\"the sum is : \", sum)"
   ]
  },
  {
   "cell_type": "code",
   "execution_count": 40,
   "id": "5bbbf7b1",
   "metadata": {},
   "outputs": [
    {
     "name": "stdout",
     "output_type": "stream",
     "text": [
      "the common element is : 2\n"
     ]
    }
   ],
   "source": [
    "a = [1,2,3,4,5,6]\n",
    "b = [2,7,8,9]\n",
    "for i in a:\n",
    "    for j in b:\n",
    "        if i == j:\n",
    "         print(\"the common element is :\",i)"
   ]
  }
 ],
 "metadata": {
  "kernelspec": {
   "display_name": "Python 3",
   "language": "python",
   "name": "python3"
  },
  "language_info": {
   "codemirror_mode": {
    "name": "ipython",
    "version": 3
   },
   "file_extension": ".py",
   "mimetype": "text/x-python",
   "name": "python",
   "nbconvert_exporter": "python",
   "pygments_lexer": "ipython3",
   "version": "3.8.8"
  }
 },
 "nbformat": 4,
 "nbformat_minor": 5
}
